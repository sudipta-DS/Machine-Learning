{
 "cells": [
  {
   "cell_type": "code",
   "execution_count": 1,
   "metadata": {},
   "outputs": [
    {
     "name": "stdout",
     "output_type": "stream",
     "text": [
      "Requirement already satisfied: Scrapy in d:\\anaconda\\lib\\site-packages (2.5.0)\n",
      "Requirement already satisfied: cryptography>=2.0 in d:\\anaconda\\lib\\site-packages (from Scrapy) (3.1.1)\n",
      "Requirement already satisfied: w3lib>=1.17.0 in d:\\anaconda\\lib\\site-packages (from Scrapy) (1.22.0)\n",
      "Requirement already satisfied: itemadapter>=0.1.0 in d:\\anaconda\\lib\\site-packages (from Scrapy) (0.2.0)\n",
      "Requirement already satisfied: itemloaders>=1.0.1 in d:\\anaconda\\lib\\site-packages (from Scrapy) (1.0.4)\n",
      "Requirement already satisfied: pyOpenSSL>=16.2.0 in d:\\anaconda\\lib\\site-packages (from Scrapy) (19.1.0)\n",
      "Requirement already satisfied: queuelib>=1.4.2 in d:\\anaconda\\lib\\site-packages (from Scrapy) (1.5.0)\n",
      "Requirement already satisfied: h2<4.0,>=3.0 in d:\\anaconda\\lib\\site-packages (from Scrapy) (3.2.0)\n",
      "Requirement already satisfied: zope.interface>=4.1.3 in d:\\anaconda\\lib\\site-packages (from Scrapy) (5.1.2)\n",
      "Requirement already satisfied: parsel>=1.5.0 in d:\\anaconda\\lib\\site-packages (from Scrapy) (1.6.0)\n",
      "Requirement already satisfied: PyDispatcher>=2.0.5; platform_python_implementation == \"CPython\" in d:\\anaconda\\lib\\site-packages (from Scrapy) (2.0.5)\n",
      "Requirement already satisfied: lxml>=3.5.0; platform_python_implementation == \"CPython\" in d:\\anaconda\\lib\\site-packages (from Scrapy) (4.6.1)\n",
      "Requirement already satisfied: Twisted[http2]>=17.9.0 in d:\\anaconda\\lib\\site-packages (from Scrapy) (21.2.0)\n",
      "Requirement already satisfied: service-identity>=16.0.0 in d:\\anaconda\\lib\\site-packages (from Scrapy) (18.1.0)\n",
      "Requirement already satisfied: cssselect>=0.9.1 in d:\\anaconda\\lib\\site-packages (from Scrapy) (1.1.0)\n",
      "Requirement already satisfied: protego>=0.1.15 in d:\\anaconda\\lib\\site-packages (from Scrapy) (0.1.16)\n",
      "Requirement already satisfied: cffi!=1.11.3,>=1.8 in d:\\anaconda\\lib\\site-packages (from cryptography>=2.0->Scrapy) (1.14.3)\n",
      "Requirement already satisfied: six>=1.4.1 in d:\\anaconda\\lib\\site-packages (from cryptography>=2.0->Scrapy) (1.15.0)\n",
      "Requirement already satisfied: jmespath>=0.9.5 in d:\\anaconda\\lib\\site-packages (from itemloaders>=1.0.1->Scrapy) (0.10.0)\n",
      "Requirement already satisfied: hpack<4,>=3.0 in d:\\anaconda\\lib\\site-packages (from h2<4.0,>=3.0->Scrapy) (3.0.0)\n",
      "Requirement already satisfied: hyperframe<6,>=5.2.0 in d:\\anaconda\\lib\\site-packages (from h2<4.0,>=3.0->Scrapy) (5.2.0)\n",
      "Requirement already satisfied: setuptools in d:\\anaconda\\lib\\site-packages (from zope.interface>=4.1.3->Scrapy) (50.3.1.post20201107)\n",
      "Requirement already satisfied: twisted-iocpsupport~=1.0.0; platform_system == \"Windows\" in d:\\anaconda\\lib\\site-packages (from Twisted[http2]>=17.9.0->Scrapy) (1.0.1)\n",
      "Requirement already satisfied: constantly>=15.1 in d:\\anaconda\\lib\\site-packages (from Twisted[http2]>=17.9.0->Scrapy) (15.1.0)\n",
      "Requirement already satisfied: attrs>=19.2.0 in d:\\anaconda\\lib\\site-packages (from Twisted[http2]>=17.9.0->Scrapy) (20.3.0)\n",
      "Requirement already satisfied: Automat>=0.8.0 in d:\\anaconda\\lib\\site-packages (from Twisted[http2]>=17.9.0->Scrapy) (20.2.0)\n",
      "Requirement already satisfied: hyperlink>=17.1.1 in d:\\anaconda\\lib\\site-packages (from Twisted[http2]>=17.9.0->Scrapy) (21.0.0)\n",
      "Requirement already satisfied: incremental>=16.10.1 in d:\\anaconda\\lib\\site-packages (from Twisted[http2]>=17.9.0->Scrapy) (21.3.0)\n",
      "Requirement already satisfied: priority<2.0,>=1.1.0; extra == \"http2\" in d:\\anaconda\\lib\\site-packages (from Twisted[http2]>=17.9.0->Scrapy) (1.3.0)Note: you may need to restart the kernel to use updated packages.\n",
      "\n",
      "Requirement already satisfied: pyasn1 in d:\\anaconda\\lib\\site-packages (from service-identity>=16.0.0->Scrapy) (0.4.8)\n",
      "Requirement already satisfied: pyasn1-modules in d:\\anaconda\\lib\\site-packages (from service-identity>=16.0.0->Scrapy) (0.2.8)\n",
      "Requirement already satisfied: pycparser in d:\\anaconda\\lib\\site-packages (from cffi!=1.11.3,>=1.8->cryptography>=2.0->Scrapy) (2.20)\n",
      "Requirement already satisfied: idna>=2.5 in d:\\anaconda\\lib\\site-packages (from hyperlink>=17.1.1->Twisted[http2]>=17.9.0->Scrapy) (2.10)\n"
     ]
    }
   ],
   "source": [
    "pip install Scrapy"
   ]
  },
  {
   "cell_type": "code",
   "execution_count": 4,
   "metadata": {},
   "outputs": [
    {
     "name": "stdout",
     "output_type": "stream",
     "text": [
      "New Scrapy project 'newproject', using template directory 'd:\\anaconda\\lib\\site-packages\\scrapy\\templates\\project', created in:\n",
      "    C:\\Users\\saman\\My python Folder\\Data Science Masters Course\\newproject\n",
      "\n",
      "You can start your first spider with:\n",
      "    cd newproject\n",
      "    scrapy genspider example example.com\n"
     ]
    }
   ],
   "source": [
    "!scrapy startproject newproject"
   ]
  },
  {
   "cell_type": "code",
   "execution_count": 8,
   "metadata": {},
   "outputs": [],
   "source": [
    "import scrapy\n",
    "\n",
    "class QuotesSpider(scrapy.Spider):\n",
    "    name = \"QuotesSpider\"\n",
    "    \n",
    "    def start_request(self):\n",
    "        urls = [\"http://quotes.toscrape.com/page/1/\",\n",
    "                \"http://quotes.toscrape.com/page/2/\",\n",
    "                \"http://quotes.toscrape.com/page/3/\"]\n",
    "        for url in urls:\n",
    "            yield scrapy.Request(url=url,callback=self.parse)\n",
    "    def parse(self,response):\n",
    "        page_id = response.url.split(\"/\")[-2]\n",
    "        filename = \"quotes%s\"%page_id\n",
    "        with open(filename,'wb') as f:\n",
    "            f.write(response.body)\n",
    "        self.log('saved file %s'%filename)    "
   ]
  },
  {
   "cell_type": "code",
   "execution_count": null,
   "metadata": {},
   "outputs": [],
   "source": []
  },
  {
   "cell_type": "code",
   "execution_count": null,
   "metadata": {},
   "outputs": [],
   "source": []
  }
 ],
 "metadata": {
  "kernelspec": {
   "display_name": "Python 3",
   "language": "python",
   "name": "python3"
  },
  "language_info": {
   "codemirror_mode": {
    "name": "ipython",
    "version": 3
   },
   "file_extension": ".py",
   "mimetype": "text/x-python",
   "name": "python",
   "nbconvert_exporter": "python",
   "pygments_lexer": "ipython3",
   "version": "3.8.5"
  }
 },
 "nbformat": 4,
 "nbformat_minor": 4
}
