{
 "cells": [
  {
   "cell_type": "code",
   "execution_count": 1,
   "metadata": {},
   "outputs": [],
   "source": [
    "from sklearn.datasets import load_boston"
   ]
  },
  {
   "cell_type": "code",
   "execution_count": 2,
   "metadata": {},
   "outputs": [],
   "source": [
    "boston = load_boston()"
   ]
  },
  {
   "cell_type": "code",
   "execution_count": 3,
   "metadata": {},
   "outputs": [],
   "source": [
    "from sklearn.linear_model import LinearRegression\n",
    "from sklearn.neighbors import KNeighborsRegressor\n",
    "from sklearn.model_selection import GridSearchCV\n",
    "from sklearn.tree import DecisionTreeRegressor\n",
    "from sklearn.metrics import r2_score"
   ]
  },
  {
   "cell_type": "code",
   "execution_count": 4,
   "metadata": {},
   "outputs": [],
   "source": [
    "lr = LinearRegression()\n",
    "knn = KNeighborsRegressor()\n",
    "dt = DecisionTreeRegressor()"
   ]
  },
  {
   "cell_type": "code",
   "execution_count": 5,
   "metadata": {},
   "outputs": [],
   "source": [
    "from sklearn.model_selection import train_test_split\n",
    "X_boston,Y_boston = boston.data,boston.target\n",
    "X_train, X_test, Y_train, Y_test = train_test_split(X_boston, Y_boston , train_size=0.80, test_size=0.20, random_state=123)"
   ]
  },
  {
   "cell_type": "code",
   "execution_count": 6,
   "metadata": {},
   "outputs": [
    {
     "data": {
      "text/plain": [
       "DecisionTreeRegressor()"
      ]
     },
     "execution_count": 6,
     "metadata": {},
     "output_type": "execute_result"
    }
   ],
   "source": [
    "lr.fit(X_train,Y_train)\n",
    "knn.fit(X_train,Y_train)\n",
    "dt.fit(X_train,Y_train)"
   ]
  },
  {
   "cell_type": "code",
   "execution_count": 7,
   "metadata": {},
   "outputs": [],
   "source": [
    "pred_lr = lr.predict(X_test)\n",
    "pred_knn = knn.predict(X_test)\n",
    "pred_dt = dt.predict(X_test)"
   ]
  },
  {
   "cell_type": "code",
   "execution_count": 8,
   "metadata": {},
   "outputs": [
    {
     "name": "stdout",
     "output_type": "stream",
     "text": [
      "Linear Regression R2 Score :  0.5594269612728853\n",
      "KNN R2 Score :  0.2634634191207139\n",
      "Decision Tree R2 Score :  0.5481135766414477\n"
     ]
    }
   ],
   "source": [
    "print('Linear Regression R2 Score : ',r2_score(pred_lr,Y_test))\n",
    "print('KNN R2 Score : ',r2_score(pred_knn,Y_test))\n",
    "print('Decision Tree R2 Score : ',r2_score(pred_dt,Y_test))"
   ]
  },
  {
   "cell_type": "markdown",
   "metadata": {},
   "source": [
    "### Bagging Regressor"
   ]
  },
  {
   "cell_type": "code",
   "execution_count": 9,
   "metadata": {},
   "outputs": [
    {
     "data": {
      "text/plain": [
       "BaggingRegressor(random_state=1)"
      ]
     },
     "execution_count": 9,
     "metadata": {},
     "output_type": "execute_result"
    }
   ],
   "source": [
    "from sklearn.ensemble import BaggingRegressor\n",
    "\n",
    "bag_regressor = BaggingRegressor(random_state=1)\n",
    "bag_regressor.fit(X_train, Y_train)"
   ]
  },
  {
   "cell_type": "code",
   "execution_count": 10,
   "metadata": {},
   "outputs": [
    {
     "name": "stdout",
     "output_type": "stream",
     "text": [
      "Training Coefficient of R^2 : 0.980\n",
      "Test Coefficient of R^2 : 0.818\n"
     ]
    }
   ],
   "source": [
    "Y_preds = bag_regressor.predict(X_test)\n",
    "\n",
    "print('Training Coefficient of R^2 : %.3f'%bag_regressor.score(X_train, Y_train))\n",
    "print('Test Coefficient of R^2 : %.3f'%bag_regressor.score(X_test, Y_test))"
   ]
  },
  {
   "cell_type": "markdown",
   "metadata": {},
   "source": [
    "### Hyperparameter Tuning Using GridSearchCV"
   ]
  },
  {
   "cell_type": "code",
   "execution_count": 13,
   "metadata": {},
   "outputs": [],
   "source": [
    "n_samples = boston.data.shape[0]\n",
    "n_features = boston.data.shape[1]\n",
    "\n",
    "params = {'base_estimator':[None,LinearRegression(),KNeighborsRegressor()],\n",
    "          'n_estimators':[10,50,100],\n",
    "          'max_samples':[0.25,0.50,1.0],\n",
    "          'max_features':[0.25,0.50,1.0],\n",
    "          'bootstrap':[True,False],\n",
    "          'bootstrap_features':[True,False]}"
   ]
  },
  {
   "cell_type": "code",
   "execution_count": 15,
   "metadata": {},
   "outputs": [
    {
     "name": "stdout",
     "output_type": "stream",
     "text": [
      "Fitting 3 folds for each of 324 candidates, totalling 972 fits\n"
     ]
    },
    {
     "name": "stderr",
     "output_type": "stream",
     "text": [
      "[Parallel(n_jobs=-1)]: Using backend LokyBackend with 8 concurrent workers.\n",
      "[Parallel(n_jobs=-1)]: Done  34 tasks      | elapsed:    6.9s\n",
      "[Parallel(n_jobs=-1)]: Done 184 tasks      | elapsed:   11.7s\n",
      "[Parallel(n_jobs=-1)]: Done 434 tasks      | elapsed:   20.1s\n",
      "[Parallel(n_jobs=-1)]: Done 784 tasks      | elapsed:   29.9s\n",
      "[Parallel(n_jobs=-1)]: Done 972 out of 972 | elapsed:   36.4s finished\n"
     ]
    },
    {
     "data": {
      "text/plain": [
       "GridSearchCV(cv=3, estimator=BaggingRegressor(), n_jobs=-1,\n",
       "             param_grid={'base_estimator': [None, LinearRegression(),\n",
       "                                            KNeighborsRegressor()],\n",
       "                         'bootstrap': [True, False],\n",
       "                         'bootstrap_features': [True, False],\n",
       "                         'max_features': [0.25, 0.5, 1.0],\n",
       "                         'max_samples': [0.25, 0.5, 1.0],\n",
       "                         'n_estimators': [10, 50, 100]},\n",
       "             verbose=1)"
      ]
     },
     "execution_count": 15,
     "metadata": {},
     "output_type": "execute_result"
    }
   ],
   "source": [
    "Bagging_Regressor_grid = GridSearchCV(BaggingRegressor(),param_grid=params,cv=3,n_jobs=-1,verbose=1)\n",
    "Bagging_Regressor_grid.fit(X_train,Y_train)"
   ]
  },
  {
   "cell_type": "code",
   "execution_count": 16,
   "metadata": {},
   "outputs": [
    {
     "data": {
      "text/plain": [
       "{'base_estimator': None,\n",
       " 'bootstrap': True,\n",
       " 'bootstrap_features': True,\n",
       " 'max_features': 1.0,\n",
       " 'max_samples': 1.0,\n",
       " 'n_estimators': 50}"
      ]
     },
     "execution_count": 16,
     "metadata": {},
     "output_type": "execute_result"
    }
   ],
   "source": [
    "Bagging_Regressor_grid.best_params_"
   ]
  },
  {
   "cell_type": "code",
   "execution_count": 17,
   "metadata": {},
   "outputs": [
    {
     "data": {
      "text/plain": [
       "0.8615187887156961"
      ]
     },
     "execution_count": 17,
     "metadata": {},
     "output_type": "execute_result"
    }
   ],
   "source": [
    "Bagging_Regressor_grid.best_score_"
   ]
  },
  {
   "cell_type": "code",
   "execution_count": null,
   "metadata": {},
   "outputs": [],
   "source": []
  }
 ],
 "metadata": {
  "kernelspec": {
   "display_name": "Python 3",
   "language": "python",
   "name": "python3"
  },
  "language_info": {
   "codemirror_mode": {
    "name": "ipython",
    "version": 3
   },
   "file_extension": ".py",
   "mimetype": "text/x-python",
   "name": "python",
   "nbconvert_exporter": "python",
   "pygments_lexer": "ipython3",
   "version": "3.8.5"
  }
 },
 "nbformat": 4,
 "nbformat_minor": 4
}
