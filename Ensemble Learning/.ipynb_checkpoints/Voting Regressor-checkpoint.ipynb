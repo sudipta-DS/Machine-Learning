{
 "cells": [
  {
   "cell_type": "code",
   "execution_count": 1,
   "metadata": {},
   "outputs": [],
   "source": [
    "from sklearn.datasets import load_boston\n",
    "import numpy as np"
   ]
  },
  {
   "cell_type": "code",
   "execution_count": 3,
   "metadata": {},
   "outputs": [],
   "source": [
    "X,y = load_boston(return_X_y=True)"
   ]
  },
  {
   "cell_type": "code",
   "execution_count": 4,
   "metadata": {},
   "outputs": [
    {
     "data": {
      "text/plain": [
       "(506, 13)"
      ]
     },
     "execution_count": 4,
     "metadata": {},
     "output_type": "execute_result"
    }
   ],
   "source": [
    "X.shape"
   ]
  },
  {
   "cell_type": "code",
   "execution_count": 7,
   "metadata": {},
   "outputs": [],
   "source": [
    "from sklearn.linear_model import LinearRegression\n",
    "from sklearn.svm import SVR\n",
    "from sklearn.tree import DecisionTreeRegressor"
   ]
  },
  {
   "cell_type": "code",
   "execution_count": 9,
   "metadata": {},
   "outputs": [],
   "source": [
    "lr = LinearRegression()\n",
    "svr = SVR()\n",
    "dr = DecisionTreeRegressor()\n",
    "\n",
    "estimators = [('lr',lr),('svr',svr),('dr',dr)]"
   ]
  },
  {
   "cell_type": "code",
   "execution_count": 12,
   "metadata": {},
   "outputs": [
    {
     "name": "stdout",
     "output_type": "stream",
     "text": [
      "lr 0.2025289900605657\n",
      "svr -0.4109699157425082\n",
      "dr -0.175724663948369\n"
     ]
    }
   ],
   "source": [
    "from sklearn.model_selection import cross_val_score\n",
    "for estimator in estimators:\n",
    "    acc = cross_val_score(estimator[1],X,y,cv=10,scoring='r2')\n",
    "    print(estimator[0],np.mean(acc))"
   ]
  },
  {
   "cell_type": "markdown",
   "metadata": {},
   "source": [
    "### Voting Regressor"
   ]
  },
  {
   "cell_type": "code",
   "execution_count": 18,
   "metadata": {},
   "outputs": [
    {
     "name": "stdout",
     "output_type": "stream",
     "text": [
      "Voting Regressor 0.42427780391754916\n"
     ]
    }
   ],
   "source": [
    "from sklearn.ensemble import VotingRegressor\n",
    "vr = VotingRegressor(estimators)\n",
    "acc = cross_val_score(vr,X,y,cv=10,scoring='r2')\n",
    "print('Voting Regressor',np.mean(acc))"
   ]
  },
  {
   "cell_type": "markdown",
   "metadata": {},
   "source": [
    "### Weighted Voting"
   ]
  },
  {
   "cell_type": "code",
   "execution_count": 20,
   "metadata": {},
   "outputs": [
    {
     "name": "stdout",
     "output_type": "stream",
     "text": [
      "for i=1,j=1,k=1 0.46\n",
      "for i=1,j=1,k=2 0.34\n",
      "for i=1,j=1,k=3 0.26\n",
      "for i=1,j=2,k=1 0.37\n",
      "for i=1,j=2,k=2 0.39\n",
      "for i=1,j=2,k=3 0.39\n",
      "for i=1,j=3,k=1 0.27\n",
      "for i=1,j=3,k=2 0.35\n",
      "for i=1,j=3,k=3 0.3\n",
      "for i=2,j=1,k=1 0.46\n",
      "for i=2,j=1,k=2 0.45\n",
      "for i=2,j=1,k=3 0.42\n",
      "for i=2,j=2,k=1 0.42\n",
      "for i=2,j=2,k=2 0.44\n",
      "for i=2,j=2,k=3 0.43\n",
      "for i=2,j=3,k=1 0.34\n",
      "for i=2,j=3,k=2 0.4\n",
      "for i=2,j=3,k=3 0.36\n",
      "for i=3,j=1,k=1 0.44\n",
      "for i=3,j=1,k=2 0.45\n",
      "for i=3,j=1,k=3 0.45\n",
      "for i=3,j=2,k=1 0.43\n",
      "for i=3,j=2,k=2 0.46\n",
      "for i=3,j=2,k=3 0.45\n",
      "for i=3,j=3,k=1 0.37\n",
      "for i=3,j=3,k=2 0.4\n",
      "for i=3,j=3,k=3 0.39\n"
     ]
    }
   ],
   "source": [
    "for i in range(1,4):\n",
    "    for j in range(1,4):\n",
    "        for k in range(1,4):\n",
    "            vr = VotingRegressor(estimators,weights=[i,j,k])\n",
    "            acc = cross_val_score(vr,X,y,cv=10,scoring='r2')\n",
    "            print(\"for i={},j={},k={}\".format(i,j,k),np.round(np.mean(acc),2))"
   ]
  },
  {
   "cell_type": "code",
   "execution_count": null,
   "metadata": {},
   "outputs": [],
   "source": []
  }
 ],
 "metadata": {
  "kernelspec": {
   "display_name": "Python 3",
   "language": "python",
   "name": "python3"
  },
  "language_info": {
   "codemirror_mode": {
    "name": "ipython",
    "version": 3
   },
   "file_extension": ".py",
   "mimetype": "text/x-python",
   "name": "python",
   "nbconvert_exporter": "python",
   "pygments_lexer": "ipython3",
   "version": "3.8.5"
  }
 },
 "nbformat": 4,
 "nbformat_minor": 4
}
