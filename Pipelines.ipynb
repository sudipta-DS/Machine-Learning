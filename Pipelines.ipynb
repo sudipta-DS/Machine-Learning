{
 "cells": [
  {
   "cell_type": "code",
   "execution_count": 1,
   "metadata": {},
   "outputs": [],
   "source": [
    "import numpy as np\n",
    "import pandas as pd"
   ]
  },
  {
   "cell_type": "code",
   "execution_count": 2,
   "metadata": {},
   "outputs": [],
   "source": [
    "from sklearn.model_selection import train_test_split\n",
    "from sklearn.pipeline import Pipeline,make_pipeline\n",
    "from sklearn.compose import ColumnTransformer\n",
    "from sklearn.impute import SimpleImputer\n",
    "from sklearn.preprocessing import MinMaxScaler\n",
    "from sklearn.preprocessing import OneHotEncoder\n",
    "from sklearn.tree import DecisionTreeClassifier\n",
    "from sklearn.feature_selection import chi2,SelectKBest"
   ]
  },
  {
   "cell_type": "code",
   "execution_count": 3,
   "metadata": {},
   "outputs": [],
   "source": [
    "titanic = pd.read_csv('./train_titanic.csv')"
   ]
  },
  {
   "cell_type": "code",
   "execution_count": 9,
   "metadata": {},
   "outputs": [],
   "source": [
    "titanic = titanic.drop(labels=['Name','PassengerId','Ticket','Fare','Cabin'],axis=1)"
   ]
  },
  {
   "cell_type": "code",
   "execution_count": 11,
   "metadata": {},
   "outputs": [],
   "source": [
    "X_train, X_test, y_train, y_test = train_test_split(titanic.iloc[:,1:],titanic.iloc[:,0],test_size=0.3,random_state=10)"
   ]
  },
  {
   "cell_type": "code",
   "execution_count": 15,
   "metadata": {},
   "outputs": [
    {
     "data": {
      "text/plain": [
       "Pclass        0\n",
       "Sex           0\n",
       "Age         113\n",
       "SibSp         0\n",
       "Parch         0\n",
       "Embarked      2\n",
       "dtype: int64"
      ]
     },
     "execution_count": 15,
     "metadata": {},
     "output_type": "execute_result"
    }
   ],
   "source": [
    "X_train.isnull().sum()"
   ]
  },
  {
   "cell_type": "code",
   "execution_count": 18,
   "metadata": {},
   "outputs": [],
   "source": [
    "### Imputation Transformer\n",
    "trf1 = ColumnTransformer([('impute_age',SimpleImputer(),[2]),\n",
    "                         ('impute_embarked',SimpleImputer(strategy='most_frequent'),[5])],\n",
    "                         remainder='passthrough'\n",
    "                        )"
   ]
  },
  {
   "cell_type": "code",
   "execution_count": 22,
   "metadata": {},
   "outputs": [],
   "source": [
    "### encoding\n",
    "trf2 = ColumnTransformer([('ohe_sex_embarked',OneHotEncoder(sparse=False,handle_unknown='ignore'),[1,5])],remainder='passthrough')"
   ]
  },
  {
   "cell_type": "code",
   "execution_count": 23,
   "metadata": {},
   "outputs": [],
   "source": [
    "### Scaling\n",
    "trf3 = ColumnTransformer([('scale',MinMaxScaler(),slice(0,9))])"
   ]
  },
  {
   "cell_type": "code",
   "execution_count": 24,
   "metadata": {},
   "outputs": [],
   "source": [
    "### Feature Selection\n",
    "trf4 = SelectKBest(score_func=chi2,k=8)"
   ]
  },
  {
   "cell_type": "code",
   "execution_count": 25,
   "metadata": {},
   "outputs": [],
   "source": [
    "### Model Training\n",
    "trf5 = DecisionTreeClassifier()"
   ]
  },
  {
   "cell_type": "markdown",
   "metadata": {},
   "source": [
    "### Creating Pipelines"
   ]
  },
  {
   "cell_type": "code",
   "execution_count": 26,
   "metadata": {},
   "outputs": [],
   "source": [
    "pipe = Pipeline([\n",
    "    ('trf1',trf1),\n",
    "    ('trf2',trf2),\n",
    "    ('trf3',trf3),\n",
    "    ('trf4',trf4),\n",
    "    ('trf5',trf5)\n",
    "])"
   ]
  },
  {
   "cell_type": "code",
   "execution_count": 29,
   "metadata": {},
   "outputs": [
    {
     "data": {
      "text/html": [
       "<style>#sk-4d41b8be-6007-4d89-ac50-3e7acdfed9e7 {color: black;background-color: white;}#sk-4d41b8be-6007-4d89-ac50-3e7acdfed9e7 pre{padding: 0;}#sk-4d41b8be-6007-4d89-ac50-3e7acdfed9e7 div.sk-toggleable {background-color: white;}#sk-4d41b8be-6007-4d89-ac50-3e7acdfed9e7 label.sk-toggleable__label {cursor: pointer;display: block;width: 100%;margin-bottom: 0;padding: 0.3em;box-sizing: border-box;text-align: center;}#sk-4d41b8be-6007-4d89-ac50-3e7acdfed9e7 div.sk-toggleable__content {max-height: 0;max-width: 0;overflow: hidden;text-align: left;background-color: #f0f8ff;}#sk-4d41b8be-6007-4d89-ac50-3e7acdfed9e7 div.sk-toggleable__content pre {margin: 0.2em;color: black;border-radius: 0.25em;background-color: #f0f8ff;}#sk-4d41b8be-6007-4d89-ac50-3e7acdfed9e7 input.sk-toggleable__control:checked~div.sk-toggleable__content {max-height: 200px;max-width: 100%;overflow: auto;}#sk-4d41b8be-6007-4d89-ac50-3e7acdfed9e7 div.sk-estimator input.sk-toggleable__control:checked~label.sk-toggleable__label {background-color: #d4ebff;}#sk-4d41b8be-6007-4d89-ac50-3e7acdfed9e7 div.sk-label input.sk-toggleable__control:checked~label.sk-toggleable__label {background-color: #d4ebff;}#sk-4d41b8be-6007-4d89-ac50-3e7acdfed9e7 input.sk-hidden--visually {border: 0;clip: rect(1px 1px 1px 1px);clip: rect(1px, 1px, 1px, 1px);height: 1px;margin: -1px;overflow: hidden;padding: 0;position: absolute;width: 1px;}#sk-4d41b8be-6007-4d89-ac50-3e7acdfed9e7 div.sk-estimator {font-family: monospace;background-color: #f0f8ff;border: 1px dotted black;border-radius: 0.25em;box-sizing: border-box;margin-bottom: 0.5em;}#sk-4d41b8be-6007-4d89-ac50-3e7acdfed9e7 div.sk-estimator:hover {background-color: #d4ebff;}#sk-4d41b8be-6007-4d89-ac50-3e7acdfed9e7 div.sk-parallel-item::after {content: \"\";width: 100%;border-bottom: 1px solid gray;flex-grow: 1;}#sk-4d41b8be-6007-4d89-ac50-3e7acdfed9e7 div.sk-label:hover label.sk-toggleable__label {background-color: #d4ebff;}#sk-4d41b8be-6007-4d89-ac50-3e7acdfed9e7 div.sk-serial::before {content: \"\";position: absolute;border-left: 1px solid gray;box-sizing: border-box;top: 2em;bottom: 0;left: 50%;}#sk-4d41b8be-6007-4d89-ac50-3e7acdfed9e7 div.sk-serial {display: flex;flex-direction: column;align-items: center;background-color: white;padding-right: 0.2em;padding-left: 0.2em;}#sk-4d41b8be-6007-4d89-ac50-3e7acdfed9e7 div.sk-item {z-index: 1;}#sk-4d41b8be-6007-4d89-ac50-3e7acdfed9e7 div.sk-parallel {display: flex;align-items: stretch;justify-content: center;background-color: white;}#sk-4d41b8be-6007-4d89-ac50-3e7acdfed9e7 div.sk-parallel::before {content: \"\";position: absolute;border-left: 1px solid gray;box-sizing: border-box;top: 2em;bottom: 0;left: 50%;}#sk-4d41b8be-6007-4d89-ac50-3e7acdfed9e7 div.sk-parallel-item {display: flex;flex-direction: column;position: relative;background-color: white;}#sk-4d41b8be-6007-4d89-ac50-3e7acdfed9e7 div.sk-parallel-item:first-child::after {align-self: flex-end;width: 50%;}#sk-4d41b8be-6007-4d89-ac50-3e7acdfed9e7 div.sk-parallel-item:last-child::after {align-self: flex-start;width: 50%;}#sk-4d41b8be-6007-4d89-ac50-3e7acdfed9e7 div.sk-parallel-item:only-child::after {width: 0;}#sk-4d41b8be-6007-4d89-ac50-3e7acdfed9e7 div.sk-dashed-wrapped {border: 1px dashed gray;margin: 0 0.4em 0.5em 0.4em;box-sizing: border-box;padding-bottom: 0.4em;background-color: white;position: relative;}#sk-4d41b8be-6007-4d89-ac50-3e7acdfed9e7 div.sk-label label {font-family: monospace;font-weight: bold;background-color: white;display: inline-block;line-height: 1.2em;}#sk-4d41b8be-6007-4d89-ac50-3e7acdfed9e7 div.sk-label-container {position: relative;z-index: 2;text-align: center;}#sk-4d41b8be-6007-4d89-ac50-3e7acdfed9e7 div.sk-container {display: inline-block;position: relative;}</style><div id=\"sk-4d41b8be-6007-4d89-ac50-3e7acdfed9e7\" class\"sk-top-container\"><div class=\"sk-container\"><div class=\"sk-item sk-dashed-wrapped\"><div class=\"sk-label-container\"><div class=\"sk-label sk-toggleable\"><input class=\"sk-toggleable__control sk-hidden--visually\" id=\"46b1b96c-27df-4194-9f94-628c66b3140d\" type=\"checkbox\" ><label class=\"sk-toggleable__label\" for=\"46b1b96c-27df-4194-9f94-628c66b3140d\">Pipeline</label><div class=\"sk-toggleable__content\"><pre>Pipeline(steps=[('trf1',\n",
       "                 ColumnTransformer(remainder='passthrough',\n",
       "                                   transformers=[('impute_age', SimpleImputer(),\n",
       "                                                  [2]),\n",
       "                                                 ('impute_embarked',\n",
       "                                                  SimpleImputer(strategy='most_frequent'),\n",
       "                                                  [5])])),\n",
       "                ('trf2',\n",
       "                 ColumnTransformer(remainder='passthrough',\n",
       "                                   transformers=[('ohe_sex_embarked',\n",
       "                                                  OneHotEncoder(handle_unknown='ignore',\n",
       "                                                                sparse=False),\n",
       "                                                  [1, 5])])),\n",
       "                ('trf3',\n",
       "                 ColumnTransformer(transformers=[('scale', MinMaxScaler(),\n",
       "                                                  slice(0, 9, None))])),\n",
       "                ('trf4',\n",
       "                 SelectKBest(k=8,\n",
       "                             score_func=<function chi2 at 0x000001FA0B72A550>)),\n",
       "                ('trf5', DecisionTreeClassifier())])</pre></div></div></div><div class=\"sk-serial\"><div class=\"sk-item sk-dashed-wrapped\"><div class=\"sk-label-container\"><div class=\"sk-label sk-toggleable\"><input class=\"sk-toggleable__control sk-hidden--visually\" id=\"87c582d8-ec73-40cd-9cd6-a87ef246462e\" type=\"checkbox\" ><label class=\"sk-toggleable__label\" for=\"87c582d8-ec73-40cd-9cd6-a87ef246462e\">trf1: ColumnTransformer</label><div class=\"sk-toggleable__content\"><pre>ColumnTransformer(remainder='passthrough',\n",
       "                  transformers=[('impute_age', SimpleImputer(), [2]),\n",
       "                                ('impute_embarked',\n",
       "                                 SimpleImputer(strategy='most_frequent'),\n",
       "                                 [5])])</pre></div></div></div><div class=\"sk-parallel\"><div class=\"sk-parallel-item\"><div class=\"sk-item\"><div class=\"sk-label-container\"><div class=\"sk-label sk-toggleable\"><input class=\"sk-toggleable__control sk-hidden--visually\" id=\"b47a5557-cd79-4388-8b72-4246a15dffaa\" type=\"checkbox\" ><label class=\"sk-toggleable__label\" for=\"b47a5557-cd79-4388-8b72-4246a15dffaa\">impute_age</label><div class=\"sk-toggleable__content\"><pre>[2]</pre></div></div></div><div class=\"sk-serial\"><div class=\"sk-item\"><div class=\"sk-estimator sk-toggleable\"><input class=\"sk-toggleable__control sk-hidden--visually\" id=\"1beb357c-3988-4e5b-9ee9-6bc29cdb94a2\" type=\"checkbox\" ><label class=\"sk-toggleable__label\" for=\"1beb357c-3988-4e5b-9ee9-6bc29cdb94a2\">SimpleImputer</label><div class=\"sk-toggleable__content\"><pre>SimpleImputer()</pre></div></div></div></div></div></div><div class=\"sk-parallel-item\"><div class=\"sk-item\"><div class=\"sk-label-container\"><div class=\"sk-label sk-toggleable\"><input class=\"sk-toggleable__control sk-hidden--visually\" id=\"2734483e-7379-4c74-9d15-59e45786ee2f\" type=\"checkbox\" ><label class=\"sk-toggleable__label\" for=\"2734483e-7379-4c74-9d15-59e45786ee2f\">impute_embarked</label><div class=\"sk-toggleable__content\"><pre>[5]</pre></div></div></div><div class=\"sk-serial\"><div class=\"sk-item\"><div class=\"sk-estimator sk-toggleable\"><input class=\"sk-toggleable__control sk-hidden--visually\" id=\"24e1dce4-3275-43e9-8edb-b6cb5fe99c1a\" type=\"checkbox\" ><label class=\"sk-toggleable__label\" for=\"24e1dce4-3275-43e9-8edb-b6cb5fe99c1a\">SimpleImputer</label><div class=\"sk-toggleable__content\"><pre>SimpleImputer(strategy='most_frequent')</pre></div></div></div></div></div></div><div class=\"sk-parallel-item\"><div class=\"sk-item\"><div class=\"sk-label-container\"><div class=\"sk-label sk-toggleable\"><input class=\"sk-toggleable__control sk-hidden--visually\" id=\"d9cbe37d-7f31-40c2-a3d6-3c4b8bd632d8\" type=\"checkbox\" ><label class=\"sk-toggleable__label\" for=\"d9cbe37d-7f31-40c2-a3d6-3c4b8bd632d8\">remainder</label><div class=\"sk-toggleable__content\"><pre>['Pclass', 'Sex', 'SibSp', 'Parch']</pre></div></div></div><div class=\"sk-serial\"><div class=\"sk-item\"><div class=\"sk-estimator sk-toggleable\"><input class=\"sk-toggleable__control sk-hidden--visually\" id=\"0cf5616e-7a59-471e-b612-547211aa3587\" type=\"checkbox\" ><label class=\"sk-toggleable__label\" for=\"0cf5616e-7a59-471e-b612-547211aa3587\">passthrough</label><div class=\"sk-toggleable__content\"><pre>passthrough</pre></div></div></div></div></div></div></div></div><div class=\"sk-item sk-dashed-wrapped\"><div class=\"sk-label-container\"><div class=\"sk-label sk-toggleable\"><input class=\"sk-toggleable__control sk-hidden--visually\" id=\"3ce3757f-56df-405b-860a-492529f5f752\" type=\"checkbox\" ><label class=\"sk-toggleable__label\" for=\"3ce3757f-56df-405b-860a-492529f5f752\">trf2: ColumnTransformer</label><div class=\"sk-toggleable__content\"><pre>ColumnTransformer(remainder='passthrough',\n",
       "                  transformers=[('ohe_sex_embarked',\n",
       "                                 OneHotEncoder(handle_unknown='ignore',\n",
       "                                               sparse=False),\n",
       "                                 [1, 5])])</pre></div></div></div><div class=\"sk-parallel\"><div class=\"sk-parallel-item\"><div class=\"sk-item\"><div class=\"sk-label-container\"><div class=\"sk-label sk-toggleable\"><input class=\"sk-toggleable__control sk-hidden--visually\" id=\"012455f8-4cd2-4ed3-bf2f-47ad8c91377d\" type=\"checkbox\" ><label class=\"sk-toggleable__label\" for=\"012455f8-4cd2-4ed3-bf2f-47ad8c91377d\">ohe_sex_embarked</label><div class=\"sk-toggleable__content\"><pre>[1, 5]</pre></div></div></div><div class=\"sk-serial\"><div class=\"sk-item\"><div class=\"sk-estimator sk-toggleable\"><input class=\"sk-toggleable__control sk-hidden--visually\" id=\"596a4b05-a5f9-40fb-b3d9-d9e3b823e25a\" type=\"checkbox\" ><label class=\"sk-toggleable__label\" for=\"596a4b05-a5f9-40fb-b3d9-d9e3b823e25a\">OneHotEncoder</label><div class=\"sk-toggleable__content\"><pre>OneHotEncoder(handle_unknown='ignore', sparse=False)</pre></div></div></div></div></div></div><div class=\"sk-parallel-item\"><div class=\"sk-item\"><div class=\"sk-label-container\"><div class=\"sk-label sk-toggleable\"><input class=\"sk-toggleable__control sk-hidden--visually\" id=\"8ccce9b4-0fca-42aa-95fe-87862050f37a\" type=\"checkbox\" ><label class=\"sk-toggleable__label\" for=\"8ccce9b4-0fca-42aa-95fe-87862050f37a\">remainder</label><div class=\"sk-toggleable__content\"><pre>[0, 2, 3, 4]</pre></div></div></div><div class=\"sk-serial\"><div class=\"sk-item\"><div class=\"sk-estimator sk-toggleable\"><input class=\"sk-toggleable__control sk-hidden--visually\" id=\"599780bc-11e5-4424-afd8-d8cc855f7d4b\" type=\"checkbox\" ><label class=\"sk-toggleable__label\" for=\"599780bc-11e5-4424-afd8-d8cc855f7d4b\">passthrough</label><div class=\"sk-toggleable__content\"><pre>passthrough</pre></div></div></div></div></div></div></div></div><div class=\"sk-item sk-dashed-wrapped\"><div class=\"sk-label-container\"><div class=\"sk-label sk-toggleable\"><input class=\"sk-toggleable__control sk-hidden--visually\" id=\"8f0b8ae2-d337-45ee-8cc7-d85ad2d4edf8\" type=\"checkbox\" ><label class=\"sk-toggleable__label\" for=\"8f0b8ae2-d337-45ee-8cc7-d85ad2d4edf8\">trf3: ColumnTransformer</label><div class=\"sk-toggleable__content\"><pre>ColumnTransformer(transformers=[('scale', MinMaxScaler(), slice(0, 9, None))])</pre></div></div></div><div class=\"sk-parallel\"><div class=\"sk-parallel-item\"><div class=\"sk-item\"><div class=\"sk-label-container\"><div class=\"sk-label sk-toggleable\"><input class=\"sk-toggleable__control sk-hidden--visually\" id=\"e9e2eacc-b4bb-4eea-9b57-1ae5c9b331f9\" type=\"checkbox\" ><label class=\"sk-toggleable__label\" for=\"e9e2eacc-b4bb-4eea-9b57-1ae5c9b331f9\">scale</label><div class=\"sk-toggleable__content\"><pre>slice(0, 9, None)</pre></div></div></div><div class=\"sk-serial\"><div class=\"sk-item\"><div class=\"sk-estimator sk-toggleable\"><input class=\"sk-toggleable__control sk-hidden--visually\" id=\"e0e73868-76e6-47c4-bed2-00335a088edb\" type=\"checkbox\" ><label class=\"sk-toggleable__label\" for=\"e0e73868-76e6-47c4-bed2-00335a088edb\">MinMaxScaler</label><div class=\"sk-toggleable__content\"><pre>MinMaxScaler()</pre></div></div></div></div></div></div></div></div><div class=\"sk-item\"><div class=\"sk-estimator sk-toggleable\"><input class=\"sk-toggleable__control sk-hidden--visually\" id=\"c01c3e60-5c32-42a5-8966-7ff202e1cdb0\" type=\"checkbox\" ><label class=\"sk-toggleable__label\" for=\"c01c3e60-5c32-42a5-8966-7ff202e1cdb0\">SelectKBest</label><div class=\"sk-toggleable__content\"><pre>SelectKBest(k=8, score_func=<function chi2 at 0x000001FA0B72A550>)</pre></div></div></div><div class=\"sk-item\"><div class=\"sk-estimator sk-toggleable\"><input class=\"sk-toggleable__control sk-hidden--visually\" id=\"d55b4773-0f7b-47da-ae14-c6078c1e726b\" type=\"checkbox\" ><label class=\"sk-toggleable__label\" for=\"d55b4773-0f7b-47da-ae14-c6078c1e726b\">DecisionTreeClassifier</label><div class=\"sk-toggleable__content\"><pre>DecisionTreeClassifier()</pre></div></div></div></div></div></div></div>"
      ],
      "text/plain": [
       "Pipeline(steps=[('trf1',\n",
       "                 ColumnTransformer(remainder='passthrough',\n",
       "                                   transformers=[('impute_age', SimpleImputer(),\n",
       "                                                  [2]),\n",
       "                                                 ('impute_embarked',\n",
       "                                                  SimpleImputer(strategy='most_frequent'),\n",
       "                                                  [5])])),\n",
       "                ('trf2',\n",
       "                 ColumnTransformer(remainder='passthrough',\n",
       "                                   transformers=[('ohe_sex_embarked',\n",
       "                                                  OneHotEncoder(handle_unknown='ignore',\n",
       "                                                                sparse=False),\n",
       "                                                  [1, 5])])),\n",
       "                ('trf3',\n",
       "                 ColumnTransformer(transformers=[('scale', MinMaxScaler(),\n",
       "                                                  slice(0, 9, None))])),\n",
       "                ('trf4',\n",
       "                 SelectKBest(k=8,\n",
       "                             score_func=<function chi2 at 0x000001FA0B72A550>)),\n",
       "                ('trf5', DecisionTreeClassifier())])"
      ]
     },
     "execution_count": 29,
     "metadata": {},
     "output_type": "execute_result"
    }
   ],
   "source": [
    "pipe.fit(X_train,y_train)"
   ]
  },
  {
   "cell_type": "code",
   "execution_count": 47,
   "metadata": {},
   "outputs": [
    {
     "data": {
      "text/plain": [
       "array(['S'], dtype=object)"
      ]
     },
     "execution_count": 47,
     "metadata": {},
     "output_type": "execute_result"
    }
   ],
   "source": [
    "### Points to decode a pipeline\n",
    "\n",
    "\n",
    "pipe.named_steps['trf1'].transformers_[1][1].statistics_"
   ]
  },
  {
   "cell_type": "code",
   "execution_count": 28,
   "metadata": {},
   "outputs": [],
   "source": [
    "from sklearn import set_config\n",
    "set_config(display='diagram')"
   ]
  },
  {
   "cell_type": "code",
   "execution_count": 30,
   "metadata": {},
   "outputs": [],
   "source": [
    "y_pred = pipe.predict(X_test)"
   ]
  },
  {
   "cell_type": "code",
   "execution_count": 31,
   "metadata": {},
   "outputs": [
    {
     "data": {
      "text/plain": [
       "0.6231343283582089"
      ]
     },
     "execution_count": 31,
     "metadata": {},
     "output_type": "execute_result"
    }
   ],
   "source": [
    "from sklearn.metrics import accuracy_score\n",
    "accuracy_score(y_test,y_pred)"
   ]
  },
  {
   "cell_type": "markdown",
   "metadata": {},
   "source": [
    "### Hyper Parameter Tuning in Pipelines"
   ]
  },
  {
   "cell_type": "code",
   "execution_count": 32,
   "metadata": {},
   "outputs": [],
   "source": [
    "params = {\n",
    "    'trf5__max_depth':[1,2,3,4,5,None]\n",
    "}"
   ]
  },
  {
   "cell_type": "code",
   "execution_count": 35,
   "metadata": {},
   "outputs": [
    {
     "data": {
      "text/html": [
       "<style>#sk-290c09ab-858e-4bc6-aa71-70e08f6a82ae {color: black;background-color: white;}#sk-290c09ab-858e-4bc6-aa71-70e08f6a82ae pre{padding: 0;}#sk-290c09ab-858e-4bc6-aa71-70e08f6a82ae div.sk-toggleable {background-color: white;}#sk-290c09ab-858e-4bc6-aa71-70e08f6a82ae label.sk-toggleable__label {cursor: pointer;display: block;width: 100%;margin-bottom: 0;padding: 0.3em;box-sizing: border-box;text-align: center;}#sk-290c09ab-858e-4bc6-aa71-70e08f6a82ae div.sk-toggleable__content {max-height: 0;max-width: 0;overflow: hidden;text-align: left;background-color: #f0f8ff;}#sk-290c09ab-858e-4bc6-aa71-70e08f6a82ae div.sk-toggleable__content pre {margin: 0.2em;color: black;border-radius: 0.25em;background-color: #f0f8ff;}#sk-290c09ab-858e-4bc6-aa71-70e08f6a82ae input.sk-toggleable__control:checked~div.sk-toggleable__content {max-height: 200px;max-width: 100%;overflow: auto;}#sk-290c09ab-858e-4bc6-aa71-70e08f6a82ae div.sk-estimator input.sk-toggleable__control:checked~label.sk-toggleable__label {background-color: #d4ebff;}#sk-290c09ab-858e-4bc6-aa71-70e08f6a82ae div.sk-label input.sk-toggleable__control:checked~label.sk-toggleable__label {background-color: #d4ebff;}#sk-290c09ab-858e-4bc6-aa71-70e08f6a82ae input.sk-hidden--visually {border: 0;clip: rect(1px 1px 1px 1px);clip: rect(1px, 1px, 1px, 1px);height: 1px;margin: -1px;overflow: hidden;padding: 0;position: absolute;width: 1px;}#sk-290c09ab-858e-4bc6-aa71-70e08f6a82ae div.sk-estimator {font-family: monospace;background-color: #f0f8ff;border: 1px dotted black;border-radius: 0.25em;box-sizing: border-box;margin-bottom: 0.5em;}#sk-290c09ab-858e-4bc6-aa71-70e08f6a82ae div.sk-estimator:hover {background-color: #d4ebff;}#sk-290c09ab-858e-4bc6-aa71-70e08f6a82ae div.sk-parallel-item::after {content: \"\";width: 100%;border-bottom: 1px solid gray;flex-grow: 1;}#sk-290c09ab-858e-4bc6-aa71-70e08f6a82ae div.sk-label:hover label.sk-toggleable__label {background-color: #d4ebff;}#sk-290c09ab-858e-4bc6-aa71-70e08f6a82ae div.sk-serial::before {content: \"\";position: absolute;border-left: 1px solid gray;box-sizing: border-box;top: 2em;bottom: 0;left: 50%;}#sk-290c09ab-858e-4bc6-aa71-70e08f6a82ae div.sk-serial {display: flex;flex-direction: column;align-items: center;background-color: white;padding-right: 0.2em;padding-left: 0.2em;}#sk-290c09ab-858e-4bc6-aa71-70e08f6a82ae div.sk-item {z-index: 1;}#sk-290c09ab-858e-4bc6-aa71-70e08f6a82ae div.sk-parallel {display: flex;align-items: stretch;justify-content: center;background-color: white;}#sk-290c09ab-858e-4bc6-aa71-70e08f6a82ae div.sk-parallel::before {content: \"\";position: absolute;border-left: 1px solid gray;box-sizing: border-box;top: 2em;bottom: 0;left: 50%;}#sk-290c09ab-858e-4bc6-aa71-70e08f6a82ae div.sk-parallel-item {display: flex;flex-direction: column;position: relative;background-color: white;}#sk-290c09ab-858e-4bc6-aa71-70e08f6a82ae div.sk-parallel-item:first-child::after {align-self: flex-end;width: 50%;}#sk-290c09ab-858e-4bc6-aa71-70e08f6a82ae div.sk-parallel-item:last-child::after {align-self: flex-start;width: 50%;}#sk-290c09ab-858e-4bc6-aa71-70e08f6a82ae div.sk-parallel-item:only-child::after {width: 0;}#sk-290c09ab-858e-4bc6-aa71-70e08f6a82ae div.sk-dashed-wrapped {border: 1px dashed gray;margin: 0 0.4em 0.5em 0.4em;box-sizing: border-box;padding-bottom: 0.4em;background-color: white;position: relative;}#sk-290c09ab-858e-4bc6-aa71-70e08f6a82ae div.sk-label label {font-family: monospace;font-weight: bold;background-color: white;display: inline-block;line-height: 1.2em;}#sk-290c09ab-858e-4bc6-aa71-70e08f6a82ae div.sk-label-container {position: relative;z-index: 2;text-align: center;}#sk-290c09ab-858e-4bc6-aa71-70e08f6a82ae div.sk-container {display: inline-block;position: relative;}</style><div id=\"sk-290c09ab-858e-4bc6-aa71-70e08f6a82ae\" class\"sk-top-container\"><div class=\"sk-container\"><div class=\"sk-item sk-dashed-wrapped\"><div class=\"sk-label-container\"><div class=\"sk-label sk-toggleable\"><input class=\"sk-toggleable__control sk-hidden--visually\" id=\"973ce5cb-9ec9-4f1a-8460-3621faca146a\" type=\"checkbox\" ><label class=\"sk-toggleable__label\" for=\"973ce5cb-9ec9-4f1a-8460-3621faca146a\">GridSearchCV</label><div class=\"sk-toggleable__content\"><pre>GridSearchCV(cv=5,\n",
       "             estimator=Pipeline(steps=[('trf1',\n",
       "                                        ColumnTransformer(remainder='passthrough',\n",
       "                                                          transformers=[('impute_age',\n",
       "                                                                         SimpleImputer(),\n",
       "                                                                         [2]),\n",
       "                                                                        ('impute_embarked',\n",
       "                                                                         SimpleImputer(strategy='most_frequent'),\n",
       "                                                                         [5])])),\n",
       "                                       ('trf2',\n",
       "                                        ColumnTransformer(remainder='passthrough',\n",
       "                                                          transformers=[('ohe_sex_embarked',\n",
       "                                                                         OneHotEncoder(handle_unknown='ignore',\n",
       "                                                                                       sparse=False),\n",
       "                                                                         [1,\n",
       "                                                                          5])])),\n",
       "                                       ('trf3',\n",
       "                                        ColumnTransformer(transformers=[('scale',\n",
       "                                                                         MinMaxScaler(),\n",
       "                                                                         slice(0, 9, None))])),\n",
       "                                       ('trf4',\n",
       "                                        SelectKBest(k=8,\n",
       "                                                    score_func=<function chi2 at 0x000001FA0B72A550>)),\n",
       "                                       ('trf5', DecisionTreeClassifier())]),\n",
       "             param_grid={'trf5__max_depth': [1, 2, 3, 4, 5, None]},\n",
       "             scoring='accuracy')</pre></div></div></div><div class=\"sk-parallel\"><div class=\"sk-parallel-item\"><div class=\"sk-item\"><div class=\"sk-serial\"><div class=\"sk-item\"><div class=\"sk-serial\"><div class=\"sk-item sk-dashed-wrapped\"><div class=\"sk-label-container\"><div class=\"sk-label sk-toggleable\"><input class=\"sk-toggleable__control sk-hidden--visually\" id=\"c119931a-9bc2-4d78-873d-57fab1f14156\" type=\"checkbox\" ><label class=\"sk-toggleable__label\" for=\"c119931a-9bc2-4d78-873d-57fab1f14156\">trf1: ColumnTransformer</label><div class=\"sk-toggleable__content\"><pre>ColumnTransformer(remainder='passthrough',\n",
       "                  transformers=[('impute_age', SimpleImputer(), [2]),\n",
       "                                ('impute_embarked',\n",
       "                                 SimpleImputer(strategy='most_frequent'),\n",
       "                                 [5])])</pre></div></div></div><div class=\"sk-parallel\"><div class=\"sk-parallel-item\"><div class=\"sk-item\"><div class=\"sk-label-container\"><div class=\"sk-label sk-toggleable\"><input class=\"sk-toggleable__control sk-hidden--visually\" id=\"3cc4a633-f0da-44bc-ae1a-1b380be29e9a\" type=\"checkbox\" ><label class=\"sk-toggleable__label\" for=\"3cc4a633-f0da-44bc-ae1a-1b380be29e9a\">impute_age</label><div class=\"sk-toggleable__content\"><pre>[2]</pre></div></div></div><div class=\"sk-serial\"><div class=\"sk-item\"><div class=\"sk-estimator sk-toggleable\"><input class=\"sk-toggleable__control sk-hidden--visually\" id=\"d29b7436-d678-4e89-95dc-9ed6facc5bf1\" type=\"checkbox\" ><label class=\"sk-toggleable__label\" for=\"d29b7436-d678-4e89-95dc-9ed6facc5bf1\">SimpleImputer</label><div class=\"sk-toggleable__content\"><pre>SimpleImputer()</pre></div></div></div></div></div></div><div class=\"sk-parallel-item\"><div class=\"sk-item\"><div class=\"sk-label-container\"><div class=\"sk-label sk-toggleable\"><input class=\"sk-toggleable__control sk-hidden--visually\" id=\"5b78bfe8-5b5c-4b7f-958f-404caeb83222\" type=\"checkbox\" ><label class=\"sk-toggleable__label\" for=\"5b78bfe8-5b5c-4b7f-958f-404caeb83222\">impute_embarked</label><div class=\"sk-toggleable__content\"><pre>[5]</pre></div></div></div><div class=\"sk-serial\"><div class=\"sk-item\"><div class=\"sk-estimator sk-toggleable\"><input class=\"sk-toggleable__control sk-hidden--visually\" id=\"3e2c1625-f6b1-4d00-9294-150f3aecb66a\" type=\"checkbox\" ><label class=\"sk-toggleable__label\" for=\"3e2c1625-f6b1-4d00-9294-150f3aecb66a\">SimpleImputer</label><div class=\"sk-toggleable__content\"><pre>SimpleImputer(strategy='most_frequent')</pre></div></div></div></div></div></div><div class=\"sk-parallel-item\"><div class=\"sk-item\"><div class=\"sk-label-container\"><div class=\"sk-label sk-toggleable\"><input class=\"sk-toggleable__control sk-hidden--visually\" id=\"ed885e9f-6326-4bfb-a4a8-c6a657837e54\" type=\"checkbox\" ><label class=\"sk-toggleable__label\" for=\"ed885e9f-6326-4bfb-a4a8-c6a657837e54\">remainder</label><div class=\"sk-toggleable__content\"><pre>['Pclass', 'Sex', 'SibSp', 'Parch']</pre></div></div></div><div class=\"sk-serial\"><div class=\"sk-item\"><div class=\"sk-estimator sk-toggleable\"><input class=\"sk-toggleable__control sk-hidden--visually\" id=\"e1a8dbc9-f2b0-47f0-969f-e60279f34553\" type=\"checkbox\" ><label class=\"sk-toggleable__label\" for=\"e1a8dbc9-f2b0-47f0-969f-e60279f34553\">passthrough</label><div class=\"sk-toggleable__content\"><pre>passthrough</pre></div></div></div></div></div></div></div></div><div class=\"sk-item sk-dashed-wrapped\"><div class=\"sk-label-container\"><div class=\"sk-label sk-toggleable\"><input class=\"sk-toggleable__control sk-hidden--visually\" id=\"8460e66e-6cb6-4145-aca8-33427354dd89\" type=\"checkbox\" ><label class=\"sk-toggleable__label\" for=\"8460e66e-6cb6-4145-aca8-33427354dd89\">trf2: ColumnTransformer</label><div class=\"sk-toggleable__content\"><pre>ColumnTransformer(remainder='passthrough',\n",
       "                  transformers=[('ohe_sex_embarked',\n",
       "                                 OneHotEncoder(handle_unknown='ignore',\n",
       "                                               sparse=False),\n",
       "                                 [1, 5])])</pre></div></div></div><div class=\"sk-parallel\"><div class=\"sk-parallel-item\"><div class=\"sk-item\"><div class=\"sk-label-container\"><div class=\"sk-label sk-toggleable\"><input class=\"sk-toggleable__control sk-hidden--visually\" id=\"8d014201-ff88-45d8-9208-82af11dc5cce\" type=\"checkbox\" ><label class=\"sk-toggleable__label\" for=\"8d014201-ff88-45d8-9208-82af11dc5cce\">ohe_sex_embarked</label><div class=\"sk-toggleable__content\"><pre>[1, 5]</pre></div></div></div><div class=\"sk-serial\"><div class=\"sk-item\"><div class=\"sk-estimator sk-toggleable\"><input class=\"sk-toggleable__control sk-hidden--visually\" id=\"212ee7dc-2a81-41c0-b197-22d84a8d3e96\" type=\"checkbox\" ><label class=\"sk-toggleable__label\" for=\"212ee7dc-2a81-41c0-b197-22d84a8d3e96\">OneHotEncoder</label><div class=\"sk-toggleable__content\"><pre>OneHotEncoder(handle_unknown='ignore', sparse=False)</pre></div></div></div></div></div></div><div class=\"sk-parallel-item\"><div class=\"sk-item\"><div class=\"sk-label-container\"><div class=\"sk-label sk-toggleable\"><input class=\"sk-toggleable__control sk-hidden--visually\" id=\"030c7eef-e1c9-494a-bce3-564f966232bb\" type=\"checkbox\" ><label class=\"sk-toggleable__label\" for=\"030c7eef-e1c9-494a-bce3-564f966232bb\">remainder</label><div class=\"sk-toggleable__content\"><pre>[0, 2, 3, 4]</pre></div></div></div><div class=\"sk-serial\"><div class=\"sk-item\"><div class=\"sk-estimator sk-toggleable\"><input class=\"sk-toggleable__control sk-hidden--visually\" id=\"f2e7de11-f707-41a6-a136-2620ceffad76\" type=\"checkbox\" ><label class=\"sk-toggleable__label\" for=\"f2e7de11-f707-41a6-a136-2620ceffad76\">passthrough</label><div class=\"sk-toggleable__content\"><pre>passthrough</pre></div></div></div></div></div></div></div></div><div class=\"sk-item sk-dashed-wrapped\"><div class=\"sk-label-container\"><div class=\"sk-label sk-toggleable\"><input class=\"sk-toggleable__control sk-hidden--visually\" id=\"5f57d3eb-e2c2-4a58-a3bf-0722c80ddc56\" type=\"checkbox\" ><label class=\"sk-toggleable__label\" for=\"5f57d3eb-e2c2-4a58-a3bf-0722c80ddc56\">trf3: ColumnTransformer</label><div class=\"sk-toggleable__content\"><pre>ColumnTransformer(transformers=[('scale', MinMaxScaler(), slice(0, 9, None))])</pre></div></div></div><div class=\"sk-parallel\"><div class=\"sk-parallel-item\"><div class=\"sk-item\"><div class=\"sk-label-container\"><div class=\"sk-label sk-toggleable\"><input class=\"sk-toggleable__control sk-hidden--visually\" id=\"cb321cfb-4707-4828-9eb5-bcf7173e45f4\" type=\"checkbox\" ><label class=\"sk-toggleable__label\" for=\"cb321cfb-4707-4828-9eb5-bcf7173e45f4\">scale</label><div class=\"sk-toggleable__content\"><pre>slice(0, 9, None)</pre></div></div></div><div class=\"sk-serial\"><div class=\"sk-item\"><div class=\"sk-estimator sk-toggleable\"><input class=\"sk-toggleable__control sk-hidden--visually\" id=\"98bfe51b-ae01-4ed1-9043-850c734fe1fe\" type=\"checkbox\" ><label class=\"sk-toggleable__label\" for=\"98bfe51b-ae01-4ed1-9043-850c734fe1fe\">MinMaxScaler</label><div class=\"sk-toggleable__content\"><pre>MinMaxScaler()</pre></div></div></div></div></div></div></div></div><div class=\"sk-item\"><div class=\"sk-estimator sk-toggleable\"><input class=\"sk-toggleable__control sk-hidden--visually\" id=\"0c261ccd-4dc2-4e22-9492-35dad4857571\" type=\"checkbox\" ><label class=\"sk-toggleable__label\" for=\"0c261ccd-4dc2-4e22-9492-35dad4857571\">SelectKBest</label><div class=\"sk-toggleable__content\"><pre>SelectKBest(k=8, score_func=<function chi2 at 0x000001FA0B72A550>)</pre></div></div></div><div class=\"sk-item\"><div class=\"sk-estimator sk-toggleable\"><input class=\"sk-toggleable__control sk-hidden--visually\" id=\"53bf2c0c-f71c-4739-b2fe-4cd0a082b5af\" type=\"checkbox\" ><label class=\"sk-toggleable__label\" for=\"53bf2c0c-f71c-4739-b2fe-4cd0a082b5af\">DecisionTreeClassifier</label><div class=\"sk-toggleable__content\"><pre>DecisionTreeClassifier()</pre></div></div></div></div></div></div></div></div></div></div></div></div>"
      ],
      "text/plain": [
       "GridSearchCV(cv=5,\n",
       "             estimator=Pipeline(steps=[('trf1',\n",
       "                                        ColumnTransformer(remainder='passthrough',\n",
       "                                                          transformers=[('impute_age',\n",
       "                                                                         SimpleImputer(),\n",
       "                                                                         [2]),\n",
       "                                                                        ('impute_embarked',\n",
       "                                                                         SimpleImputer(strategy='most_frequent'),\n",
       "                                                                         [5])])),\n",
       "                                       ('trf2',\n",
       "                                        ColumnTransformer(remainder='passthrough',\n",
       "                                                          transformers=[('ohe_sex_embarked',\n",
       "                                                                         OneHotEncoder(handle_unknown='ignore',\n",
       "                                                                                       sparse=False),\n",
       "                                                                         [1,\n",
       "                                                                          5])])),\n",
       "                                       ('trf3',\n",
       "                                        ColumnTransformer(transformers=[('scale',\n",
       "                                                                         MinMaxScaler(),\n",
       "                                                                         slice(0, 9, None))])),\n",
       "                                       ('trf4',\n",
       "                                        SelectKBest(k=8,\n",
       "                                                    score_func=<function chi2 at 0x000001FA0B72A550>)),\n",
       "                                       ('trf5', DecisionTreeClassifier())]),\n",
       "             param_grid={'trf5__max_depth': [1, 2, 3, 4, 5, None]},\n",
       "             scoring='accuracy')"
      ]
     },
     "execution_count": 35,
     "metadata": {},
     "output_type": "execute_result"
    }
   ],
   "source": [
    "from sklearn.model_selection import GridSearchCV\n",
    "grid = GridSearchCV(pipe,params,cv=5,scoring='accuracy')\n",
    "grid.fit(X_train,y_train)"
   ]
  },
  {
   "cell_type": "code",
   "execution_count": 36,
   "metadata": {},
   "outputs": [
    {
     "data": {
      "text/plain": [
       "0.6149161290322581"
      ]
     },
     "execution_count": 36,
     "metadata": {},
     "output_type": "execute_result"
    }
   ],
   "source": [
    "grid.best_score_"
   ]
  },
  {
   "cell_type": "code",
   "execution_count": 37,
   "metadata": {},
   "outputs": [
    {
     "data": {
      "text/plain": [
       "{'trf5__max_depth': 3}"
      ]
     },
     "execution_count": 37,
     "metadata": {},
     "output_type": "execute_result"
    }
   ],
   "source": [
    "grid.best_params_"
   ]
  },
  {
   "cell_type": "markdown",
   "metadata": {},
   "source": [
    "### Exporting Pipelines"
   ]
  },
  {
   "cell_type": "code",
   "execution_count": 38,
   "metadata": {},
   "outputs": [],
   "source": [
    "import pickle\n",
    "pickle.dump(pipe,open('pipe.pkl','wb'))"
   ]
  },
  {
   "cell_type": "code",
   "execution_count": 39,
   "metadata": {},
   "outputs": [
    {
     "data": {
      "text/html": [
       "<div>\n",
       "<style scoped>\n",
       "    .dataframe tbody tr th:only-of-type {\n",
       "        vertical-align: middle;\n",
       "    }\n",
       "\n",
       "    .dataframe tbody tr th {\n",
       "        vertical-align: top;\n",
       "    }\n",
       "\n",
       "    .dataframe thead th {\n",
       "        text-align: right;\n",
       "    }\n",
       "</style>\n",
       "<table border=\"1\" class=\"dataframe\">\n",
       "  <thead>\n",
       "    <tr style=\"text-align: right;\">\n",
       "      <th></th>\n",
       "      <th>Survived</th>\n",
       "      <th>Pclass</th>\n",
       "      <th>Sex</th>\n",
       "      <th>Age</th>\n",
       "      <th>SibSp</th>\n",
       "      <th>Parch</th>\n",
       "      <th>Embarked</th>\n",
       "    </tr>\n",
       "  </thead>\n",
       "  <tbody>\n",
       "    <tr>\n",
       "      <th>0</th>\n",
       "      <td>0</td>\n",
       "      <td>3</td>\n",
       "      <td>male</td>\n",
       "      <td>22.0</td>\n",
       "      <td>1</td>\n",
       "      <td>0</td>\n",
       "      <td>S</td>\n",
       "    </tr>\n",
       "    <tr>\n",
       "      <th>1</th>\n",
       "      <td>1</td>\n",
       "      <td>1</td>\n",
       "      <td>female</td>\n",
       "      <td>38.0</td>\n",
       "      <td>1</td>\n",
       "      <td>0</td>\n",
       "      <td>C</td>\n",
       "    </tr>\n",
       "    <tr>\n",
       "      <th>2</th>\n",
       "      <td>1</td>\n",
       "      <td>3</td>\n",
       "      <td>female</td>\n",
       "      <td>26.0</td>\n",
       "      <td>0</td>\n",
       "      <td>0</td>\n",
       "      <td>S</td>\n",
       "    </tr>\n",
       "    <tr>\n",
       "      <th>3</th>\n",
       "      <td>1</td>\n",
       "      <td>1</td>\n",
       "      <td>female</td>\n",
       "      <td>35.0</td>\n",
       "      <td>1</td>\n",
       "      <td>0</td>\n",
       "      <td>S</td>\n",
       "    </tr>\n",
       "    <tr>\n",
       "      <th>4</th>\n",
       "      <td>0</td>\n",
       "      <td>3</td>\n",
       "      <td>male</td>\n",
       "      <td>35.0</td>\n",
       "      <td>0</td>\n",
       "      <td>0</td>\n",
       "      <td>S</td>\n",
       "    </tr>\n",
       "  </tbody>\n",
       "</table>\n",
       "</div>"
      ],
      "text/plain": [
       "   Survived  Pclass     Sex   Age  SibSp  Parch Embarked\n",
       "0         0       3    male  22.0      1      0        S\n",
       "1         1       1  female  38.0      1      0        C\n",
       "2         1       3  female  26.0      0      0        S\n",
       "3         1       1  female  35.0      1      0        S\n",
       "4         0       3    male  35.0      0      0        S"
      ]
     },
     "execution_count": 39,
     "metadata": {},
     "output_type": "execute_result"
    }
   ],
   "source": [
    "titanic.head()"
   ]
  },
  {
   "cell_type": "code",
   "execution_count": null,
   "metadata": {},
   "outputs": [],
   "source": []
  }
 ],
 "metadata": {
  "kernelspec": {
   "display_name": "Python 3",
   "language": "python",
   "name": "python3"
  },
  "language_info": {
   "codemirror_mode": {
    "name": "ipython",
    "version": 3
   },
   "file_extension": ".py",
   "mimetype": "text/x-python",
   "name": "python",
   "nbconvert_exporter": "python",
   "pygments_lexer": "ipython3",
   "version": "3.8.5"
  }
 },
 "nbformat": 4,
 "nbformat_minor": 4
}
